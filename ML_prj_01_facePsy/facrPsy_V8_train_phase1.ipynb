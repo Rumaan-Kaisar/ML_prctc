{
  "cells": [
    {
      "cell_type": "code",
      "execution_count": 1,
      "metadata": {
        "colab": {
          "base_uri": "https://localhost:8080/"
        },
        "id": "OJZOaNJZJ9rO",
        "outputId": "98a0b324-e42d-4f90-ac48-f5216560578a"
      },
      "outputs": [
        {
          "output_type": "stream",
          "name": "stdout",
          "text": [
            "Drive already mounted at /content/drive; to attempt to forcibly remount, call drive.mount(\"/content/drive\", force_remount=True).\n",
            "/content/drive/MyDrive/Colab Notebooks\n",
            "/content/drive/MyDrive/Colab Notebooks\n",
            " basic_operations.ipynb\t\t\t     som_trained_data_02.pkl\n",
            " cnn_raw.py\t\t\t\t     test_data_compressed.pkl\n",
            " colab_basics.ipynb\t\t\t     train_data_compressed.pkl\n",
            " compressed_file.pkl\t\t\t     trained_som.pkl\n",
            "'Copy of 1_preprocessing_MJR - Copy.ipynb'   train_som_iteration_1_img.pkl\n",
            " DREAM_DATA_view.ipynb\t\t\t     train_som_iteration_1.pkl\n",
            " DREAMER.mat\t\t\t\t     train_som_iteration_2_img.pkl\n",
            " extracted_face_data\t\t\t     train_som_iteration_2.pkl\n",
            " facrPsy_V7_trainTestSample.ipynb\t     train_som_iteration_3_img.pkl\n",
            " facrPsy_V8_train_phase1.ipynb\t\t     train_som_iteration_3.pkl\n",
            " probability_vectors.pkl\t\t     Untitled\n",
            " som_trained_data_01.pkl\t\t     unzip_files.ipynb\n"
          ]
        }
      ],
      "source": [
        "# mount Google Drive\n",
        "from google.colab import drive\n",
        "drive.mount('/content/drive')\n",
        "\n",
        "# change directories:\n",
        "%cd /content/drive/MyDrive/Colab\\ Notebooks\n",
        "!pwd    # current working directory now changed\n",
        "!ls"
      ]
    },
    {
      "cell_type": "code",
      "execution_count": 2,
      "metadata": {
        "id": "AodJ5z1PMX6t"
      },
      "outputs": [],
      "source": [
        "import pickle\n",
        "import numpy as np\n",
        "from skimage.color import rgb2gray\n",
        "from PIL import Image, ImageDraw\n",
        "import matplotlib.pyplot as plt"
      ]
    },
    {
      "cell_type": "code",
      "execution_count": 3,
      "metadata": {
        "id": "nT7VvZR7Kzkr"
      },
      "outputs": [],
      "source": [
        "\n",
        "extracted_data_path = './extracted_face_data/'\n",
        "\n",
        "patient_id = ['P08', 'P08', 'P10', 'P10', 'P12', 'P12', 'P13', 'P13', 'P14', 'P15', 'P15', 'P16', 'P16', 'P17', 'P17', 'P18', 'P18', 'P19', 'P19', 'P20', 'P20', 'P21', 'P21', 'P23', 'P23', 'P24', 'P24', 'P25', 'P27', 'P28', 'P29', 'P29', 'P30', 'P30', 'P31', 'P31', 'P33', 'P33', 'P34', 'P35', 'P35', 'P36', 'P38', 'P38']\n",
        "ground_truth = [0, 0, 1, 0, 1, 1, 0, 0, 0, 0, 1, 0, 0, 1, 0, 1, 1, 1, 1, 0, 0, 0, 1, 0, 0, 1, 1, 0, 0, 0, 0, 0, 1, 1, 0, 0, 0, 0, 0, 0, 0, 0, 0, 0]\n",
        "\n",
        "\n",
        "# List of file base names and sizes\n",
        "data_name = [\n",
        "    \"data0_pP08_0\", \"data1_pP08_0\", \"data2_pP10_1\", \"data3_pP10_0\", \"data4_pP12_1\",\n",
        "    \"data5_pP12_1\", \"data6_pP13_0\", \"data7_pP13_0\", \"data8_pP14_0\", \"data9_pP15_0\",\n",
        "    \"data10_pP15_1\", \"data11_pP16_0\", \"data12_pP16_0\", \"data13_pP17_1\", \"data14_pP17_0\",\n",
        "    \"data15_pP18_1\", \"data16_pP18_1\", \"data17_pP19_1\", \"data18_pP19_1\", \"data19_pP20_0\",\n",
        "    \"data20_pP20_0\", \"data21_pP21_0\", \"data22_pP21_1\", \"data23_pP23_0\", \"data24_pP23_0\",\n",
        "    \"data25_pP24_1\", \"data26_pP24_1\", \"data27_pP25_0\", \"data28_pP27_0\", \"data29_pP28_0\",\n",
        "    \"data30_pP29_0\", \"data31_pP29_0\", \"data32_pP30_1\", \"data33_pP30_1\", \"data34_pP31_0\",\n",
        "    \"data35_pP31_0\", \"data36_pP33_0\", \"data37_pP33_0\", \"data38_pP34_0\", \"data39_pP35_0\",\n",
        "    \"data40_pP35_0\", \"data41_pP36_0\", \"data42_pP38_0\", \"data43_pP38_0\"\n",
        "]\n",
        "data_size = [\n",
        "    9875, 5900, 1638, 2542, 2036, 1085, 7532, 280, 10007, 3509, 2452, 11881, 10347,\n",
        "    1119, 0, 3201, 3412, 465, 497, 2185, 1799, 2481, 2243, 3540, 3440, 5518, 2155,\n",
        "    560, 4, 2890, 13038, 16197, 9036, 10052, 4108, 1423, 7039, 6073, 4153, 7687,\n",
        "    7214, 9576, 3963, 1940\n",
        "]\n"
      ]
    },
    {
      "cell_type": "markdown",
      "metadata": {
        "id": "FErtaZxqh8Ql"
      },
      "source": [
        "# compressing train_data (old)"
      ]
    },
    {
      "cell_type": "code",
      "execution_count": null,
      "metadata": {
        "id": "NHhaVLBRMLxP"
      },
      "outputs": [],
      "source": [
        "# open train data (old decompressed)\n",
        "with open('/content/drive/MyDrive/Colab Notebooks/train_data_FP.pkl', 'rb') as f:\n",
        "    train_data = pickle.load(f)"
      ]
    },
    {
      "cell_type": "code",
      "execution_count": null,
      "metadata": {
        "id": "7SI4GkdsevYi"
      },
      "outputs": [],
      "source": [
        "# compress the train_data\n",
        "import pickle\n",
        "import zlib\n",
        "\n",
        "# Save with zlib compression\n",
        "with open(\"train_data_compressed.pkl\", \"wb\") as f:\n",
        "    compressed = zlib.compress(pickle.dumps(train_data))\n",
        "    f.write(compressed)"
      ]
    },
    {
      "cell_type": "markdown",
      "metadata": {
        "id": "EX_XqzM5h3sH"
      },
      "source": [
        "___"
      ]
    },
    {
      "cell_type": "code",
      "execution_count": 3,
      "metadata": {
        "id": "jZLkozooigF_"
      },
      "outputs": [],
      "source": [
        "# @title file saver/opener\n",
        "import pickle\n",
        "import zlib\n",
        "\n",
        "# Save to compressed file\n",
        "def save_compressed(obj, filename):\n",
        "    with open(filename, \"wb\") as f:\n",
        "        compressed = zlib.compress(pickle.dumps(obj))\n",
        "        f.write(compressed)\n",
        "\n",
        "\n",
        "def load_compressed(filename):\n",
        "    with open(filename, \"rb\") as f:\n",
        "        compressed = f.read()\n",
        "        return pickle.loads(zlib.decompress(compressed))\n"
      ]
    },
    {
      "cell_type": "code",
      "execution_count": null,
      "metadata": {
        "id": "LDgWmSORjdSe"
      },
      "outputs": [],
      "source": [
        "# Examples\n",
        "\n",
        "# Save the grayscaled, float32-compressed images\n",
        "# save_compressed(som_train_img, \"som_train_img_compressed.pkl\")\n",
        "# save_compressed(som_prj_img, \"som_prj_img_compressed.pkl\")\n",
        "\n",
        "# som_train_img = load_compressed(\"som_train_img_compressed.pkl\")\n",
        "# som_prj_img = load_compressed(\"som_prj_img_compressed.pkl\")"
      ]
    },
    {
      "cell_type": "code",
      "execution_count": 16,
      "metadata": {
        "id": "i9AmkofBhtam"
      },
      "outputs": [],
      "source": [
        "# @title loading train/test data\n",
        "train_data = load_compressed(\"train_data_compressed.pkl\")"
      ]
    },
    {
      "cell_type": "code",
      "execution_count": null,
      "metadata": {
        "id": "YO9NUrZHlUS8"
      },
      "outputs": [],
      "source": [
        "# test data\n",
        "test_data = load_compressed(\"test_data_compressed.pkl\")"
      ]
    },
    {
      "cell_type": "code",
      "execution_count": null,
      "metadata": {
        "colab": {
          "base_uri": "https://localhost:8080/"
        },
        "id": "2G5LSVxpRTS0",
        "outputId": "62984991-0c27-4625-ef66-2de2046d3c02"
      },
      "outputs": [
        {
          "name": "stdout",
          "output_type": "stream",
          "text": [
            "total train data: 38\n",
            "\n",
            "-----------------\n",
            "\n",
            "dt_0_P08_0, size: 9875\n",
            "dt_1_P08_0, size: 5900\n",
            "dt_4_P12_1, size: 2036\n",
            "dt_5_P12_1, size: 1085\n",
            "dt_8_P14_0, size: 10007\n",
            "dt_9_P15_0, size: 3509\n",
            "dt_10_P15_1, size: 2452\n",
            "dt_11_P16_0, size: 11881\n",
            "dt_12_P16_0, size: 10347\n",
            "dt_13_P17_1, size: 1119\n",
            "dt_15_P18_1, size: 3201\n",
            "dt_16_P18_1, size: 3412\n",
            "dt_19_P20_0, size: 2185\n",
            "dt_20_P20_0, size: 1799\n",
            "dt_21_P21_0, size: 2481\n",
            "dt_22_P21_1, size: 2243\n",
            "dt_23_P23_0, size: 3540\n",
            "dt_24_P23_0, size: 3440\n",
            "dt_25_P24_1, size: 5518\n",
            "dt_26_P24_1, size: 2155\n",
            "dt_27_P25_0, size: 560\n",
            "dt_29_P28_0, size: 2890\n",
            "dt_30_P29_0, size: 13038\n",
            "dt_31_P29_0, size: 16197\n",
            "dt_32_P30_1, size: 9036\n",
            "dt_33_P30_1, size: 10052\n",
            "dt_34_P31_0, size: 4108\n",
            "dt_35_P31_0, size: 1423\n",
            "dt_36_P33_0, size: 7039\n",
            "dt_37_P33_0, size: 6073\n",
            "dt_38_P34_0, size: 4153\n",
            "dt_39_P35_0, size: 7687\n",
            "dt_40_P35_0, size: 7214\n",
            "dt_41_P36_0, size: 9576\n",
            "dt_42_P38_0, size: 3963\n",
            "dt_43_P38_0, size: 1940\n",
            "dt_6_P13_0, size: 7812\n",
            "dt_17_P19_1, size: 962\n"
          ]
        }
      ],
      "source": [
        "print(f\"total train data: {len(train_data)}\\n\\n-----------------\\n\")\n",
        "for name, data_dict in train_data:\n",
        "    print(f\"{name}, size: {len(data_dict['feature']['contours'])}\")"
      ]
    },
    {
      "cell_type": "code",
      "execution_count": null,
      "metadata": {
        "colab": {
          "base_uri": "https://localhost:8080/"
        },
        "id": "bEHjz-RCkb6N",
        "outputId": "3ad215e2-a0c1-44cd-8b8b-1e863dfbd6af"
      },
      "outputs": [
        {
          "name": "stdout",
          "output_type": "stream",
          "text": [
            "total test data: 2\n",
            "\n",
            "-----------------\n",
            "\n",
            "dt_2_P10_1, size: 1638\n",
            "dt_3_P10_0, size: 2542\n"
          ]
        }
      ],
      "source": [
        "print(f\"total test data: {len(test_data)}\\n\\n-----------------\\n\")\n",
        "for name, data_dict in test_data:\n",
        "    print(f\"{name}, size: {len(data_dict['feature']['contours'])}\")"
      ]
    },
    {
      "cell_type": "code",
      "execution_count": 17,
      "metadata": {
        "id": "zLAsFUD7NVCe"
      },
      "outputs": [],
      "source": [
        "# =====================================================================================================\n",
        "# Step: 1, 2, 3\n",
        "# =====================================================================================================\n",
        "\n",
        "# ----------------------------  sample -> split: train, projection  ------------------------------------\n",
        "\n",
        "\n",
        "# Step: 1, 2\n",
        "def decide_sample_size(group_size):\n",
        "    \"\"\"\n",
        "    Decide sample size based on group size.\n",
        "    Returns (sample_size, train_split, projection_split).\n",
        "    \"\"\"\n",
        "    if group_size < 500:\n",
        "        return (0, 0, 0)\n",
        "    elif group_size < 3000:\n",
        "        return (500, 1, 0)\n",
        "    elif group_size < 5000:\n",
        "        return (1000, 1, 1)\n",
        "    elif group_size < 7000:\n",
        "        return (1500, 1, 2)\n",
        "    elif group_size < 8000:\n",
        "        return (2000, 2, 2)\n",
        "    elif group_size < 11000:\n",
        "        return (2500, 2, 3)\n",
        "    elif group_size <= 20000:\n",
        "        return (3000, 3, 3)\n",
        "    else:\n",
        "        n = round((0.15 * group_size) / 500)\n",
        "        sample_size = n * 500\n",
        "        if n % 2 == 0:\n",
        "            return (sample_size, n // 2, n // 2)\n",
        "        else:\n",
        "            return (sample_size, (n - 1) // 2, (n + 1) // 2)\n",
        "\n",
        "\n",
        "\n",
        "# train_data = [(name, dict)], m size list\n",
        "# dict =\n",
        "        # 'feature': {\n",
        "        #     'contours': contours_list\n",
        "        #     'au': au_list\n",
        "        #     'landmarks': landmarks_list\n",
        "        #     'headEulerAngle': headEulerAngle_list\n",
        "        #     'classification': classification_list\n",
        "        # },\n",
        "        # 'ground_truth': 0 or 1\n",
        "\n",
        "\n",
        "# make indices for sample\n",
        "def sample_uniformly(size, num_samples=500):\n",
        "    \"\"\"\n",
        "    Randomly selects 'num_samples' indices from the dataset in a uniform manner.\n",
        "\n",
        "    Args:\n",
        "        size (int): Total number of data points in the dataset.\n",
        "        num_samples (int): Number of samples to select (default: 500).\n",
        "\n",
        "    Returns:\n",
        "        np.ndarray: An array of sampled indices.\n",
        "    \"\"\"\n",
        "    # Ensure sample size doesn't exceed available data\n",
        "    num_samples = min(size, num_samples)\n",
        "    # Select 'num_samples' unique indices uniformly without a fixed seed within 'size'\n",
        "    sampled_indices = np.random.choice(size, num_samples, replace=False)\n",
        "    return sampled_indices\n",
        "\n",
        "\n",
        "# get data from samples indexes\n",
        "def get_sample_data(data_dict, sampled_indices):\n",
        "    \"\"\"\n",
        "    Extracts a subset of data using sampled indices.\n",
        "\n",
        "    Args:\n",
        "        data_dict (dict): Dictionary containing 'feature' and its sub-keys.\n",
        "        sampled_indices (list): List of sampled indices.\n",
        "\n",
        "    Returns:\n",
        "        dict: A new dictionary containing only the sampled data.\n",
        "    \"\"\"\n",
        "    sampled_data = {\n",
        "        'sample': sampled_indices,\n",
        "        'feature': {\n",
        "            'contours': [data_dict['feature']['contours'][i] for i in sampled_indices],\n",
        "            'au': [data_dict['feature']['au'][i] for i in sampled_indices],\n",
        "            'landmarks': [data_dict['feature']['landmarks'][i] for i in sampled_indices],\n",
        "            'headEulerAngle': [data_dict['feature']['headEulerAngle'][i] for i in sampled_indices],\n",
        "            'classification': [data_dict['feature']['classification'][i] for i in sampled_indices],\n",
        "        },\n",
        "        'ground_truth': data_dict['ground_truth']\n",
        "    }\n",
        "    return sampled_data\n"
      ]
    },
    {
      "cell_type": "code",
      "execution_count": 18,
      "metadata": {
        "id": "Lu4wQpfrN3Ct"
      },
      "outputs": [],
      "source": [
        "\n",
        "# --- {name: idx} dictionary  ---\n",
        "# Build once, after train_data is loaded\n",
        "name_to_index = {name: idx for idx, (name, _) in enumerate(train_data)}\n",
        "\n",
        "def get_index_by_name(name):\n",
        "    return name_to_index.get(name, -1)  # or raise an error if you prefer\n",
        "\n"
      ]
    },
    {
      "cell_type": "code",
      "execution_count": 19,
      "metadata": {
        "id": "obpH-3t8OBr8"
      },
      "outputs": [],
      "source": [
        "# --- Sampling Loop ---\n",
        "# store these idx in metadata\n",
        "som_train_idx = []\n",
        "som_prj_idx = []\n",
        "\n",
        "# lists of tuples like [(name, sampled_indices)]\n",
        "for name, data_dict in train_data:\n",
        "    data_size = len(data_dict['feature']['contours'])\n",
        "    _, num_train, num_prj = decide_sample_size(data_size)\n",
        "\n",
        "    for _ in range(num_train):\n",
        "        indices = sample_uniformly(data_size, 500)\n",
        "        som_train_idx.append((name, indices.tolist()))\n",
        "\n",
        "    for _ in range(num_prj):\n",
        "        indices = sample_uniformly(data_size, 500)\n",
        "        som_prj_idx.append((name, indices.tolist()))\n"
      ]
    },
    {
      "cell_type": "code",
      "execution_count": 9,
      "metadata": {
        "colab": {
          "base_uri": "https://localhost:8080/"
        },
        "id": "S-zEBuq6Oc0i",
        "outputId": "768fdb07-80dd-487d-cc9c-dc21318ea2b9"
      },
      "outputs": [
        {
          "output_type": "execute_result",
          "data": {
            "text/plain": [
              "500"
            ]
          },
          "metadata": {},
          "execution_count": 9
        }
      ],
      "source": [
        "len(som_train_idx[0][1])"
      ]
    },
    {
      "cell_type": "code",
      "execution_count": 20,
      "metadata": {
        "colab": {
          "base_uri": "https://localhost:8080/"
        },
        "id": "FMw67bjWRplT",
        "outputId": "02de9b89-39a1-4253-fa93-ae31f50f50a0"
      },
      "outputs": [
        {
          "output_type": "stream",
          "name": "stdout",
          "text": [
            "dt_0_P08_0\t[4280, 4345, 5526, 1569, 2906, 7521, 900, 2461, 4328, 6893]\n",
            "dt_0_P08_0\t[5391, 3857, 3362, 5783, 3974, 1115, 4295, 7395, 2077, 814]\n",
            "dt_1_P08_0\t[4282, 3587, 2353, 1358, 1996, 2393, 1288, 464, 3892, 5045]\n",
            "dt_4_P12_1\t[358, 38, 1715, 744, 224, 1097, 1221, 826, 1502, 1743]\n",
            "dt_5_P12_1\t[768, 302, 363, 866, 726, 560, 1048, 1005, 214, 529]\n",
            "dt_8_P14_0\t[8377, 2573, 6088, 1604, 5622, 7232, 2774, 5218, 2863, 2725]\n",
            "dt_8_P14_0\t[7395, 502, 1460, 9689, 4176, 6097, 4958, 5227, 775, 2345]\n",
            "dt_9_P15_0\t[2477, 2573, 875, 2083, 1041, 2732, 663, 3479, 703, 2023]\n",
            "dt_10_P15_1\t[590, 2034, 1581, 1044, 324, 690, 533, 771, 714, 2204]\n",
            "dt_11_P16_0\t[4938, 5326, 317, 4078, 3665, 10114, 9481, 4113, 581, 2114]\n",
            "dt_11_P16_0\t[6336, 10866, 2128, 1096, 1784, 6296, 10995, 7747, 11763, 10344]\n",
            "dt_11_P16_0\t[7722, 6151, 9043, 9436, 4284, 9233, 3862, 515, 10847, 9039]\n",
            "dt_12_P16_0\t[5111, 5169, 163, 1177, 2352, 4457, 502, 8513, 9474, 4126]\n",
            "dt_12_P16_0\t[3574, 6898, 10189, 5031, 8200, 6562, 5512, 7257, 588, 416]\n",
            "dt_13_P17_1\t[716, 157, 518, 574, 332, 886, 696, 687, 660, 868]\n",
            "dt_15_P18_1\t[213, 2234, 1346, 3081, 2384, 2450, 1180, 2913, 329, 391]\n",
            "dt_16_P18_1\t[2887, 999, 2528, 1711, 675, 3215, 560, 737, 2986, 3234]\n",
            "dt_19_P20_0\t[1277, 626, 1926, 144, 836, 42, 1384, 599, 773, 1441]\n",
            "dt_20_P20_0\t[353, 268, 553, 1603, 412, 323, 225, 1712, 1062, 1066]\n",
            "dt_21_P21_0\t[1555, 826, 1241, 1369, 379, 1876, 565, 1120, 1314, 2428]\n",
            "dt_22_P21_1\t[1018, 1835, 739, 289, 336, 522, 1403, 616, 2020, 97]\n",
            "dt_23_P23_0\t[228, 1466, 1362, 2341, 3531, 390, 2273, 928, 316, 3417]\n",
            "dt_24_P23_0\t[1156, 1113, 1788, 3370, 285, 1426, 2552, 3329, 1344, 2693]\n",
            "dt_25_P24_1\t[817, 3157, 2870, 5182, 2415, 1547, 2841, 4700, 951, 3160]\n",
            "dt_26_P24_1\t[565, 869, 1084, 372, 641, 202, 1867, 2025, 1243, 1125]\n",
            "dt_27_P25_0\t[118, 522, 234, 60, 292, 4, 288, 392, 416, 155]\n",
            "dt_29_P28_0\t[2701, 1181, 291, 2143, 2100, 1145, 1243, 2065, 2835, 1989]\n",
            "dt_30_P29_0\t[11442, 409, 6491, 11522, 12615, 12380, 9596, 7067, 350, 94]\n",
            "dt_30_P29_0\t[9958, 162, 6931, 6751, 1810, 4661, 8943, 3756, 3851, 11126]\n",
            "dt_30_P29_0\t[5142, 11569, 12762, 9025, 5754, 41, 5617, 10993, 2498, 4191]\n",
            "dt_31_P29_0\t[13434, 10302, 929, 10075, 3084, 5323, 8713, 3999, 10811, 3593]\n",
            "dt_31_P29_0\t[10378, 10928, 10450, 15845, 9722, 12270, 10066, 3416, 15569, 14115]\n",
            "dt_31_P29_0\t[9267, 14163, 16123, 9172, 10585, 13635, 11163, 9339, 5271, 2615]\n",
            "dt_32_P30_1\t[3727, 7580, 8641, 5607, 2362, 3980, 6998, 4157, 5482, 6122]\n",
            "dt_32_P30_1\t[1337, 1272, 148, 3510, 5692, 2592, 8446, 2629, 8107, 3741]\n",
            "dt_33_P30_1\t[6171, 4097, 8571, 4116, 467, 6406, 8722, 8890, 2173, 8344]\n",
            "dt_33_P30_1\t[2967, 4977, 6903, 8180, 9079, 5504, 4156, 9549, 8898, 6459]\n",
            "dt_34_P31_0\t[4074, 3884, 1392, 3199, 3370, 2582, 2663, 1437, 906, 2490]\n",
            "dt_35_P31_0\t[835, 621, 651, 1258, 1145, 382, 880, 811, 659, 1142]\n",
            "dt_36_P33_0\t[289, 1543, 3235, 1564, 4207, 2836, 4132, 3122, 2300, 4383]\n",
            "dt_36_P33_0\t[5523, 2715, 5380, 4794, 2164, 6029, 4158, 6778, 5674, 3484]\n",
            "dt_37_P33_0\t[548, 768, 107, 3627, 2374, 4351, 2753, 5119, 2560, 5404]\n",
            "dt_38_P34_0\t[1524, 533, 2540, 3054, 1898, 3143, 14, 1173, 3535, 2839]\n",
            "dt_39_P35_0\t[2936, 6938, 6602, 533, 5331, 5741, 6347, 3218, 12, 1956]\n",
            "dt_39_P35_0\t[4217, 2787, 4527, 3716, 3600, 6927, 5645, 6796, 3386, 4564]\n",
            "dt_40_P35_0\t[4080, 828, 2109, 90, 4470, 5311, 1393, 5753, 972, 2892]\n",
            "dt_40_P35_0\t[3511, 537, 573, 888, 5263, 4380, 5582, 7092, 592, 3648]\n",
            "dt_41_P36_0\t[8895, 6514, 3626, 3154, 6039, 3558, 2604, 6917, 7343, 117]\n",
            "dt_41_P36_0\t[1675, 7439, 8959, 1044, 4094, 3724, 6122, 7398, 5610, 7299]\n",
            "dt_42_P38_0\t[753, 2214, 1359, 3907, 1387, 3688, 1022, 2415, 3551, 681]\n",
            "dt_43_P38_0\t[1778, 142, 573, 9, 565, 1915, 1904, 1003, 1036, 1932]\n",
            "dt_6_P13_0\t[6599, 1261, 2018, 6043, 3343, 1201, 3292, 5991, 2192, 7606]\n",
            "dt_6_P13_0\t[4818, 3413, 4760, 7370, 3572, 1008, 6037, 6728, 2716, 3026]\n",
            "dt_17_P19_1\t[555, 871, 961, 577, 883, 287, 364, 145, 25, 297]\n"
          ]
        }
      ],
      "source": [
        "for dt_nm, dt_idx in som_train_idx:\n",
        "    print(f\"{dt_nm}\\t{dt_idx[:10]}\")"
      ]
    },
    {
      "cell_type": "code",
      "execution_count": null,
      "metadata": {
        "id": "uh7p0lsBO4y-"
      },
      "outputs": [],
      "source": [
        "# Step: 3\n",
        "# ----  update \"sample metadata\" here  ----\n",
        "# Store the \"som metadata\" after SOM & Vector"
      ]
    },
    {
      "cell_type": "code",
      "execution_count": 21,
      "metadata": {
        "id": "OlWLt6WjUmlO"
      },
      "outputs": [],
      "source": [
        "# @title Get Sample\n",
        "# SAMPLE: getting samples using above som_train_idx and som_prj_idx\n",
        "som_train_samples = []\n",
        "som_prj_samples = []\n",
        "\n",
        "for name, indices in som_train_idx:\n",
        "    data_idx = get_index_by_name(name)\n",
        "    nm, dt_dict = train_data[data_idx]\n",
        "    som_train_samples.append((name, indices, get_sample_data(dt_dict, indices)))\n",
        "\n",
        "for name, indices in som_prj_idx:\n",
        "    data_idx = get_index_by_name(name)\n",
        "    nm, dt_dict = train_data[data_idx]\n",
        "    som_prj_samples.append((name, indices, get_sample_data(dt_dict, indices)))\n"
      ]
    },
    {
      "cell_type": "code",
      "execution_count": 22,
      "metadata": {
        "id": "hoRo3Dtdlr6Z"
      },
      "outputs": [],
      "source": [
        "# save the sample (to avoid colab runtime crushing), before \"kernel restart-p1\"\n",
        "import pickle\n",
        "\n",
        "# Group both sample lists into a dictionary\n",
        "som_data = {\n",
        "    'train_samples': som_train_samples,\n",
        "    'prj_samples': som_prj_samples\n",
        "}\n",
        "\n",
        "# Save to a normal pickle\n",
        "# with open('train_som_iteration_1.pkl', 'wb') as f:\n",
        "#     pickle.dump(som_data, f)\n",
        "\n",
        "# Save with zlib compression, pickle file\n",
        "with open(\"train_som_iteration_3.pkl\", \"wb\") as f:\n",
        "    compressed = zlib.compress(pickle.dumps(som_data))\n",
        "    f.write(compressed)\n"
      ]
    },
    {
      "cell_type": "code",
      "execution_count": null,
      "metadata": {
        "id": "Z0BIk85KmP0C"
      },
      "outputs": [],
      "source": [
        "# @title Restart RUNTIME/Kernel: part 1\n",
        "import os\n",
        "import sys\n",
        "\n",
        "# This will crash the current runtime\n",
        "os._exit(00)"
      ]
    },
    {
      "cell_type": "code",
      "execution_count": 4,
      "metadata": {
        "id": "FD2Nz1g_m6V7"
      },
      "outputs": [],
      "source": [
        "# @title Reload SAMPLE\n",
        "import pickle\n",
        "\n",
        "som_data = load_compressed(\"train_som_iteration_3.pkl\")\n",
        "\n",
        "som_train_samples = som_data['train_samples']\n",
        "som_prj_samples = som_data['prj_samples']\n"
      ]
    },
    {
      "cell_type": "markdown",
      "metadata": {
        "id": "quJ31SWIWqL5"
      },
      "source": [
        "___\n",
        "___\n"
      ]
    },
    {
      "cell_type": "code",
      "execution_count": 5,
      "metadata": {
        "id": "BNoksyC1WwY8"
      },
      "outputs": [],
      "source": [
        "\n",
        "# =====================================================================================================\n",
        "# Step: 4, 5, 6, 7, 8\n",
        "# =====================================================================================================\n",
        "# ----  sample contour and transform to image  ----\n",
        "# do the same format using extracted som_train_samples, som_prj_samples:\n",
        "    # som_train_contour = [(name, indices, contours_list_list)]\n",
        "    # som_train_img = [(name, indices, img_lis)]\n",
        "    # som_prj_contour = [(name, indices, contours_list_list)]\n",
        "    # som_prj_img = [(name, indices, img_lis)]\n",
        "\n",
        "    # use  som_train_samples, som_prj_samples to extract the contours\n",
        "    # use convert_to_img(contours) to image conversion\n",
        "\n",
        "# Define image size\n",
        "image_size = 64\n",
        "\n",
        "def convert_to_img(X):\n",
        "    x_coords = np.array([point['x'] for point in X])\n",
        "    y_coords = np.array([point['y'] for point in X])\n",
        "\n",
        "    # Min-max scaling for x and y independently\n",
        "    x_min, x_max = x_coords.min(), x_coords.max()\n",
        "    y_min, y_max = y_coords.min(), y_coords.max()\n",
        "\n",
        "    x_normalized = (x_coords - x_min) / (x_max - x_min)\n",
        "    y_normalized = (y_coords - y_min) / (y_max - y_min)\n",
        "\n",
        "    landmarks = np.column_stack((x_normalized, y_normalized))\n",
        "\n",
        "    # Scale normalized landmarks to fit within the 64x64 image\n",
        "    landmarks_scaled = np.round(landmarks * (image_size - 1)).astype(int)\n",
        "\n",
        "    face_parts = [\n",
        "        # ((0, 35), 'Face oval', (255, 255, 0, 128)),  # Yellow\n",
        "        ((36, 40), 'Left eyebrow (top)', (0, 0, 255, 128)),  # Blue\n",
        "        ((41, 45), 'Left eyebrow (bottom)', (0, 0, 255, 128)),\n",
        "        ((46, 50), 'Right eyebrow (top)', (128, 0, 128, 128)),  # Purple\n",
        "        ((51, 55), 'Right eyebrow (bottom)', (128, 0, 128, 128)),\n",
        "        ((56, 71), 'Left eye', (255, 0, 0, 128)),  # Red\n",
        "        ((72, 87), 'Right eye', (255, 0, 0, 128)),\n",
        "        ((88, 96), 'Upper lip (bottom)', (255, 165, 0, 128)),  # Orange\n",
        "        ((97, 105), 'Lower lip (top)', (255, 165, 0, 128)),\n",
        "        ((106, 116), 'Upper lip (top)', (0, 255, 255, 128)),  # Cyan\n",
        "        ((117, 125), 'Lower lip (bottom)', (0, 255, 255, 128)),\n",
        "        ((131, 131), 'Left cheek (center)', (128, 128, 128, 128)),  # Gray\n",
        "        ((132, 132), 'Right cheek (center)', (255, 192, 203, 128)),  # Pink\n",
        "    ]\n",
        "\n",
        "    # Create a blank RGBA image\n",
        "    img = Image.new(\"RGBA\", (image_size, image_size), (0, 0, 0, 0))\n",
        "    draw = ImageDraw.Draw(img)\n",
        "\n",
        "    for indices, label, color in face_parts:\n",
        "        start, end = indices\n",
        "        region_points = [(x, y) for x, y in landmarks_scaled[start:end + 1]]\n",
        "\n",
        "        # Fill the polygon formed by the region points\n",
        "        if len(region_points) > 2:  # At least 3 points required to form a polygon\n",
        "            draw.polygon(region_points, fill=color)\n",
        "\n",
        "    # Convert to numpy array and normalize to 0-1 range (RGB only)\n",
        "    img_array = np.array(img)[:, :, :3] / 255.0  # Exclude alpha channel, normalize RGB\n",
        "    return img_array\n"
      ]
    },
    {
      "cell_type": "code",
      "execution_count": 6,
      "metadata": {
        "id": "1RhnWvHW72t5"
      },
      "outputs": [],
      "source": [
        "from skimage.color import rgb2gray\n",
        "import numpy as np\n",
        "\n",
        "som_train_img = []\n",
        "som_prj_img = []\n",
        "\n",
        "for name, indices, sample_dict in som_train_samples:\n",
        "    contours_list = sample_dict['feature']['contours']\n",
        "\n",
        "    # Convert contours to images and grayscale float32\n",
        "    gray_list = [\n",
        "        rgb2gray(np.array(convert_to_img(contour))).astype(np.float32)\n",
        "        for contour in contours_list\n",
        "    ]\n",
        "    # som_train_img.append((name, indices, gray_list, contours_list))\n",
        "    som_train_img.append((name, indices, gray_list))\n",
        "\n",
        "\n",
        "for name, indices, sample_dict in som_prj_samples:\n",
        "    contours_list = sample_dict['feature']['contours']\n",
        "\n",
        "    # Convert contours to images and grayscale float32\n",
        "    gray_list = [\n",
        "        rgb2gray(np.array(convert_to_img(contour))).astype(np.float32)\n",
        "        for contour in contours_list\n",
        "    ]\n",
        "    # som_prj_img.append((name, indices, gray_list, contours_list))\n",
        "    som_prj_img.append((name, indices, gray_list))\n",
        "\n",
        "# Note: contours, not included for minimal file size and minimum RAM load\n"
      ]
    },
    {
      "cell_type": "code",
      "execution_count": 7,
      "metadata": {
        "colab": {
          "base_uri": "https://localhost:8080/"
        },
        "id": "PC_qoXFF_9ev",
        "outputId": "735d85dd-3452-42bd-9599-b94460dd7277"
      },
      "outputs": [
        {
          "output_type": "stream",
          "name": "stdout",
          "text": [
            "49\n",
            "3\n",
            "10\n",
            "500\n",
            "500\n",
            "[4176, 6264, 5726, 4807, 2639, 1002, 8479, 1549, 2686, 6254]\n",
            "64\n",
            "64\n"
          ]
        }
      ],
      "source": [
        "print(len(som_prj_img))\n",
        "print(len(som_prj_img[0]))\n",
        "print(len(som_prj_img[0][0]))\n",
        "print(len(som_prj_img[0][1]))   # 500 index\n",
        "print(len(som_prj_img[0][2]))   # 500 64x64 image\n",
        "print(som_prj_img[0][1][490:500])   # 500 index\n",
        "print(len(som_prj_img[0][2][0]))   # 500 64x64 image\n",
        "print(len(som_prj_img[0][2][0][2]))   # 500 64x64 image"
      ]
    },
    {
      "cell_type": "code",
      "execution_count": 8,
      "metadata": {
        "id": "8-H7fZARpZZT"
      },
      "outputs": [],
      "source": [
        "# save the image data for a iteration before \"training\" and \"kernel restart-p2\"\n",
        "import numpy as np\n",
        "from skimage.color import rgb2gray\n",
        "import pickle\n",
        "import zlib\n",
        "\n",
        "# Dictionary of the data you want to save\n",
        "image_data = {\n",
        "    'train_img': som_train_img,\n",
        "    'prj_img': som_prj_img\n",
        "}\n",
        "\n",
        "# Save with zlib compression\n",
        "save_compressed(image_data, \"train_som_iteration_3_img.pkl\")\n"
      ]
    },
    {
      "cell_type": "code",
      "execution_count": null,
      "metadata": {
        "id": "I_sFzRduGAMs"
      },
      "outputs": [],
      "source": [
        "# @title Restart RUNTIME/Kernel: part 2\n",
        "import os\n",
        "import sys\n",
        "\n",
        "# This will crash the current runtime\n",
        "os._exit(00)"
      ]
    },
    {
      "cell_type": "code",
      "execution_count": 4,
      "metadata": {
        "id": "eD7jUG-PJ8PO"
      },
      "outputs": [],
      "source": [
        "som_img = load_compressed(\"train_som_iteration_3_img.pkl\")"
      ]
    },
    {
      "cell_type": "code",
      "execution_count": 5,
      "metadata": {
        "id": "BvRin-PaM3yL"
      },
      "outputs": [],
      "source": [
        "# reload the img list\n",
        "som_train_img = som_img['train_img']\n",
        "som_prj_img = som_img['prj_img']"
      ]
    },
    {
      "cell_type": "markdown",
      "metadata": {
        "id": "BB6DGS2cJrEK"
      },
      "source": [
        "___\n",
        "___"
      ]
    },
    {
      "cell_type": "code",
      "execution_count": null,
      "metadata": {
        "id": "kiDsU20hEeA_"
      },
      "outputs": [],
      "source": [
        "# @title compress the data using \"zlib\"\n",
        "# saves the as is (not recomended)\n",
        "with open(\"train_som_iteration_1_no_cmprs.pkl\", \"wb\") as f:\n",
        "    pickle.dump(data_to_save, f)"
      ]
    },
    {
      "cell_type": "code",
      "execution_count": null,
      "metadata": {
        "id": "RKGc6LDrE5Ux"
      },
      "outputs": [],
      "source": [
        "# saves the as compressed\n",
        "with open(\"train_som_iteration_1_cmprs.pkl\", \"wb\") as f:\n",
        "    cmpr = zlib.compress(pickle.dumps(data_to_save))\n",
        "    f.write(cmpr)"
      ]
    },
    {
      "cell_type": "markdown",
      "metadata": {
        "id": "-5p5CB7dMmQB"
      },
      "source": [
        "___\n",
        "___"
      ]
    },
    {
      "cell_type": "code",
      "execution_count": 8,
      "metadata": {
        "colab": {
          "base_uri": "https://localhost:8080/"
        },
        "id": "0rt2b-pfNjes",
        "outputId": "de804efb-0f30-4922-d9e5-5937b7ef586e"
      },
      "outputs": [
        {
          "output_type": "execute_result",
          "data": {
            "text/plain": [
              "500"
            ]
          },
          "metadata": {},
          "execution_count": 8
        }
      ],
      "source": [
        "# list of tuple = (name, indices, gray_list)\n",
        "len(som_train_img[0][2])"
      ]
    },
    {
      "cell_type": "code",
      "execution_count": 8,
      "metadata": {
        "colab": {
          "base_uri": "https://localhost:8080/"
        },
        "id": "8hPsv9oSsnuU",
        "outputId": "c2e72261-2a64-40d7-c23f-52594f343530"
      },
      "outputs": [
        {
          "output_type": "stream",
          "name": "stdout",
          "text": [
            "(64, 64)\n"
          ]
        }
      ],
      "source": [
        "np_img = np.array(som_train_img[0][2][0])\n",
        "print(np_img.shape)"
      ]
    },
    {
      "cell_type": "code",
      "execution_count": null,
      "metadata": {
        "colab": {
          "base_uri": "https://localhost:8080/",
          "height": 428
        },
        "id": "ZGtGpLHHemwI",
        "outputId": "c7cee808-fea3-4b6d-d4c3-20c35f2cfd74"
      },
      "outputs": [
        {
          "output_type": "display_data",
          "data": {
            "text/plain": [
              "<Figure size 640x480 with 1 Axes>"
            ],
            "image/png": "[encoded data removed]"
          },
          "metadata": {}
        }
      ],
      "source": [
        "# testing image conversion\n",
        "imme = som_train_img[0][2][0]\n",
        "\n",
        "# Display the image\n",
        "plt.imshow(imme, cmap='gray')\n",
        "plt.axis(\"off\")\n",
        "plt.title(\"Facial Landmarks & Contours for data_3[0]\")\n",
        "plt.show()"
      ]
    },
    {
      "cell_type": "code",
      "execution_count": null,
      "metadata": {
        "colab": {
          "base_uri": "https://localhost:8080/",
          "height": 428
        },
        "id": "f-MaxugLr0vp",
        "outputId": "4e1ff88e-fceb-4906-c60b-08641d3d4a80"
      },
      "outputs": [
        {
          "data": {
            "image/png": "[encoded data removed]",
            "text/plain": [
              "<Figure size 640x480 with 1 Axes>"
            ]
          },
          "metadata": {},
          "output_type": "display_data"
        }
      ],
      "source": [
        "# Display the image\n",
        "plt.imshow(np_img, cmap='gray')\n",
        "plt.axis(\"off\")\n",
        "plt.title(\"Facial Landmarks & Contours for data_3[0]\")\n",
        "plt.show()"
      ]
    },
    {
      "cell_type": "code",
      "execution_count": null,
      "metadata": {
        "colab": {
          "base_uri": "https://localhost:8080/"
        },
        "id": "ZYtKua_ltVmd",
        "outputId": "86f88470-21bf-45df-e1ff-30a1bfac0ece"
      },
      "outputs": [
        {
          "name": "stdout",
          "output_type": "stream",
          "text": [
            "Min value: 0.0, Max value: 0.7875000238418579\n"
          ]
        }
      ],
      "source": [
        "# How to Check if Normalization is Needed:\n",
        "    # Normalize if the range is [0, 255].\n",
        "    # Skip normalization if the values are already in [0, 1].\n",
        "\n",
        "print(f\"Min value: {np_img.min()}, Max value: {np_img.max()}\")"
      ]
    },
    {
      "cell_type": "code",
      "execution_count": null,
      "metadata": {
        "colab": {
          "base_uri": "https://localhost:8080/"
        },
        "id": "EOEgMu3t6Qjk",
        "outputId": "a33843cb-80e4-43ef-9e09-67a187706057"
      },
      "outputs": [
        {
          "name": "stdout",
          "output_type": "stream",
          "text": [
            "(64, 64)\n",
            "\n",
            "[0. 0. 0. 0. 0. 0. 0. 0. 0. 0. 0. 0. 0. 0. 0. 0. 0. 0. 0. 0. 0. 0. 0. 0.\n",
            " 0. 0. 0. 0. 0. 0. 0. 0. 0. 0. 0. 0. 0. 0. 0. 0. 0. 0. 0. 0. 0. 0. 0. 0.\n",
            " 0. 0. 0. 0. 0. 0. 0. 0. 0. 0. 0. 0. 0. 0. 0. 0.]\n",
            "\n",
            "[0.         0.         0.         0.         0.         0.\n",
            " 0.         0.         0.         0.         0.         0.\n",
            " 0.         0.         0.         0.         0.2125     0.2125\n",
            " 0.2125     0.2125     0.2125     0.2125     0.2125     0.2125\n",
            " 0.2125     0.         0.         0.         0.         0.\n",
            " 0.         0.         0.         0.         0.         0.\n",
            " 0.         0.         0.         0.         0.         0.\n",
            " 0.         0.         0.         0.         0.         0.\n",
            " 0.         0.         0.         0.         0.         0.\n",
            " 0.         0.         0.         0.         0.14285804 0.\n",
            " 0.         0.         0.         0.        ]\n",
            "\n",
            "[0. 0. 0. 0. 0. 0. 0. 0. 0. 0. 0. 0. 0. 0. 0. 0. 0. 0. 0. 0. 0. 0. 0. 0.\n",
            " 0. 0. 0. 0. 0. 0. 0. 0. 0. 0. 0. 0. 0. 0. 0. 0. 0. 0. 0. 0. 0. 0. 0. 0.\n",
            " 0. 0. 0. 0. 0. 0. 0. 0. 0. 0. 0. 0. 0. 0. 0. 0.]\n",
            "\n",
            "[0.         0.         0.         0.         0.         0.\n",
            " 0.         0.         0.         0.         0.         0.\n",
            " 0.         0.         0.         0.         0.         0.\n",
            " 0.7875     0.7875     0.         0.         0.         0.\n",
            " 0.7875     0.7875     0.7875     0.7875     0.7875     0.7875\n",
            " 0.67540586 0.67540586 0.67540586 0.         0.         0.\n",
            " 0.         0.         0.67540586 0.67540586 0.         0.\n",
            " 0.         0.         0.         0.         0.         0.\n",
            " 0.         0.         0.         0.         0.         0.\n",
            " 0.         0.         0.         0.         0.         0.\n",
            " 0.         0.         0.         0.        ]\n",
            "\n",
            "[0. 0. 0. 0. 0. 0. 0. 0. 0. 0. 0. 0. 0. 0. 0. 0. 0. 0. 0. 0. 0. 0. 0. 0.\n",
            " 0. 0. 0. 0. 0. 0. 0. 0. 0. 0. 0. 0. 0. 0. 0. 0. 0. 0. 0. 0. 0. 0. 0. 0.\n",
            " 0. 0. 0. 0. 0. 0. 0. 0. 0. 0. 0. 0. 0. 0. 0. 0.]\n",
            "\n"
          ]
        }
      ],
      "source": [
        "X1_gray = np_img\n",
        "# Examin the values\n",
        "print(f\"{X1_gray.shape}\\n\")\n",
        "print(f\"{X1_gray[0]}\\n\")\n",
        "print(f\"{X1_gray[21]}\\n\")\n",
        "print(f\"{X1_gray[32]}\\n\")\n",
        "print(f\"{X1_gray[48]}\\n\")\n",
        "print(f\"{X1_gray[63]}\\n\")"
      ]
    },
    {
      "cell_type": "markdown",
      "metadata": {
        "id": "UCcA8DbcRa3w"
      },
      "source": [
        "# CHECKPONT: som training\n",
        "___\n",
        "___"
      ]
    },
    {
      "cell_type": "code",
      "execution_count": 6,
      "metadata": {
        "colab": {
          "base_uri": "https://localhost:8080/"
        },
        "id": "3sgZNwOPTmfQ",
        "outputId": "08f731c4-2843-4330-b0bd-b070c337038a"
      },
      "outputs": [
        {
          "output_type": "stream",
          "name": "stdout",
          "text": [
            "Requirement already satisfied: minisom in /usr/local/lib/python3.11/dist-packages (2.3.5)\n"
          ]
        }
      ],
      "source": [
        "\n",
        "#@title -------- Train the Uni-Ref-SOM --------\n",
        "\n",
        "# --------  Install minisom if not already installed  --------\n",
        "!pip install minisom\n",
        "\n",
        "# Imports\n",
        "import numpy as np\n",
        "from minisom import MiniSom\n"
      ]
    },
    {
      "cell_type": "code",
      "execution_count": 7,
      "metadata": {
        "colab": {
          "base_uri": "https://localhost:8080/"
        },
        "id": "tfhMdc9OTwxZ",
        "outputId": "edd1d3ad-e755-4202-d354-fecbde22cb2f"
      },
      "outputs": [
        {
          "output_type": "stream",
          "name": "stdout",
          "text": [
            "Total samples: 27000\n",
            "Each image vector shape: (27000, 4096)\n"
          ]
        }
      ],
      "source": [
        "\n",
        "# ------------------------  PART 1: train a reference SOM   ------------------------\n",
        "\n",
        "# GOAL: Extract and combine all grayscale images from som_train_img\n",
        "#       Combine all images (49 items × 500 = 24,500 images) and train a SOM to define universal clusters.\n",
        "# Format: som_train_img = [(name, indices, [img1, img2, ..., img500]), ...]\n",
        "\n",
        "# Step 1: Flatten the grayscale image data (64x64) to 1D vectors (4096)\n",
        "flat_all = []\n",
        "\n",
        "for name, indices, gray_images in som_train_img:\n",
        "    for img in gray_images:\n",
        "        flat_all.append(img.reshape(-1))  # shape becomes (4096,)\n",
        "\n",
        "# Convert to NumPy array\n",
        "flat_all = np.array(flat_all)  # shape: (total_samples, 4096)\n",
        "\n",
        "# Optional: Check shapes\n",
        "print(\"Total samples:\", len(flat_all))\n",
        "print(\"Each image vector shape:\", flat_all.shape)\n"
      ]
    },
    {
      "cell_type": "code",
      "execution_count": null,
      "metadata": {
        "id": "hcp43f1NUFlK"
      },
      "outputs": [],
      "source": [
        "\n",
        "# --------  Train universal SOM (e.g., 10x10 grid = 100 clusters)  --------\n",
        "# \"size\" & \"iteration\" fixing for SOM neuron (TUNING 1):\n",
        "\n",
        "# size: we set 11x11, considering 500 sample size for each individual\n",
        "    #   i.e. 121 clusters for 500 individual, 1 node for 4 data-point\n",
        "    #   because our goal was making a SOM for each sample of 500 data.\n",
        "    #   5*sqrt(500) = 5*22.4 = 112 : 11*11 or 10*10\n",
        "\n",
        "# iterations: we set initially 3000 (took 10s train), 7000(23s), 10000(36s), 60500 (240s), 70000(300s), 85000(347), 100000(400s)\n",
        "# 123000 iteration, train time (540s)\n",
        "\n",
        "som_universal = MiniSom(11, 11, input_len=flat_all.shape[1], sigma=1.0, learning_rate=0.5, random_seed=42)\n",
        "som_universal.train_random(flat_all, num_iteration=123000)\n",
        "# we used \"random_seed=42\" so that random weight initialization is fixed\n"
      ]
    },
    {
      "cell_type": "code",
      "source": [
        "# For TEST, small train\n",
        "som_universal = MiniSom(11, 11, input_len=flat_all.shape[1], sigma=1.0, learning_rate=0.5, random_seed=42)\n",
        "som_universal.train_random(flat_all, num_iteration=20000)"
      ],
      "metadata": {
        "id": "vjNi1XNZievQ"
      },
      "execution_count": 8,
      "outputs": []
    },
    {
      "cell_type": "code",
      "execution_count": 9,
      "metadata": {
        "id": "xtmzSdZSUlWQ"
      },
      "outputs": [],
      "source": [
        "\n",
        "#@title Assign Clusters, Sample projection, probability vector creation\n",
        "\n",
        "# ------------------------  PART 2: Project samples onto the Universal SOM   ------------------------\n",
        "# PART 2 GOAL:\n",
        "    # 1.    Project Individual Images onto the Universal SOM\n",
        "    # 2.    Create a probability vector (stochastic vector) for each individual based on the number of images assigned to each cluster.\n",
        "\n",
        "\n",
        "# Project Individual Images onto the Universal SOM\n",
        "    # For each individual, map their images to the universal SOM's nodes to ensure consistent group labels.\n",
        "\n",
        "def assign_clusters(images, som):\n",
        "    # Flatten images (shape: 500, 64, 64) -> (500, 4096)\n",
        "    flat_img = images.reshape(500, -1)\n",
        "\n",
        "    # Assign clusters using the universal SOM (map each image to its best-matching SOM node)\n",
        "    cluster_labels = np.array([som.winner(x) for x in flat_img])\n",
        "    # Unique cluster IDs: Convert node coordinates to unique integers (e.g., (row*11 + col))\n",
        "        # for 11x11 som the formula is: row * 11 + col\n",
        "    cluster_ids = np.array([row * 11 + col for (row, col) in cluster_labels])\n",
        "\n",
        "    # If your SOM size changes dynamically, use:\n",
        "    # grid_size_x = som.x  # Number of columns\n",
        "    # cluster_ids = np.array([row * grid_size_x + col for (row, col) in cluster_labels])\n",
        "\n",
        "    # or\n",
        "    # cluster_ids = np.array([row * som.x + col for (row, col) in cluster_labels])\n",
        "\n",
        "    return cluster_ids\n",
        "\n",
        "\n",
        "# NOTE: for a single input x, som.winner(x) returns only one pair of coordinates (row, col)\n",
        "    # So cluster_labels in our code is a \"list of (x, y) coordinate pairs\", where:\n",
        "        # x represents the \"row index\" of the SOM grid.\n",
        "        # y represents the \"column index\" of the SOM grid.\n"
      ]
    },
    {
      "cell_type": "code",
      "execution_count": 13,
      "metadata": {
        "colab": {
          "base_uri": "https://localhost:8080/"
        },
        "id": "rr7gmES2Uz5K",
        "outputId": "9406f09a-4185-40cc-e1c0-43606ebe394f"
      },
      "outputs": [
        {
          "output_type": "stream",
          "name": "stdout",
          "text": [
            "dt_1_P08_0\t[5726, 4170, 3715, 4093, 371, 4089, 4741, 3379, 3143, 3534]\n",
            "dt_4_P12_1\t[1624, 1025, 474, 918, 75, 2018, 1374, 1593, 1686, 147]\n"
          ]
        }
      ],
      "source": [
        "\n",
        "# @title --------  cluster assign: preview  --------\n",
        "# Task:\n",
        "    # get the clusters for each of 49 items also\n",
        "    # group the index of image according to clusters -> find the group of original indices\n",
        "    # use \"sampled indices\"\n",
        "\n",
        "# we'll test index 2 and 3 (i.e. items 3 & 4)\n",
        "# dt_1_P08_0    [5726, 4170, 3715, 4093, 371, 4089, 4741, 3379, 3143, 3534]\n",
        "# dt_4_P12_1    [1624, 1025, 474, 918, 75, 2018, 1374, 1593, 1686, 147]\n",
        "# images = np.array(images)   # convert image to np-array\n",
        "\n",
        "# Assign clusters for item 3\n",
        "print(f\"{som_train_img[2][0]}\\t{som_train_img[2][1][:10]}\")\n",
        "item3_images = np.array(som_train_img[2][2])      # Shape (500, 64, 64)\n",
        "item3_clusters_ids = assign_clusters(item3_images, som_universal)\n",
        "\n",
        "# # Assign clusters for item 4\n",
        "print(f\"{som_train_img[3][0]}\\t{som_train_img[3][1][:10]}\")\n",
        "item4_images = np.array(som_train_img[3][2])      # Shape (500, 64, 64)\n",
        "item4_clusters_ids = assign_clusters(item4_images, som_universal)\n"
      ]
    },
    {
      "cell_type": "code",
      "source": [
        "print(item3_images.shape)\n",
        "print(item4_images.shape)"
      ],
      "metadata": {
        "colab": {
          "base_uri": "https://localhost:8080/"
        },
        "id": "2bRTr6--mWQp",
        "outputId": "4a468631-046e-46da-f5cc-a400a8663ea4"
      },
      "execution_count": 14,
      "outputs": [
        {
          "output_type": "stream",
          "name": "stdout",
          "text": [
            "(500, 64, 64)\n",
            "(500, 64, 64)\n"
          ]
        }
      ]
    },
    {
      "cell_type": "code",
      "execution_count": 15,
      "metadata": {
        "colab": {
          "base_uri": "https://localhost:8080/",
          "height": 449
        },
        "id": "XBjWNTJKWm7n",
        "outputId": "8c7911d4-4927-4aac-b8d3-0825e022b6e3"
      },
      "outputs": [
        {
          "output_type": "display_data",
          "data": {
            "text/plain": [
              "<Figure size 640x480 with 1 Axes>"
            ],
            "image/png": "[encoded data removed]"
          },
          "metadata": {}
        }
      ],
      "source": [
        "# Analyze Cluster Consistency\n",
        "    # Check if the clusters for individual 4 align with those for individual 5\n",
        "    # Visualize the clusters to ensure they group similar expressions across individuals.\n",
        "\n",
        "import matplotlib.pyplot as plt\n",
        "\n",
        "# Visualize cluster assignments for individual 0\n",
        "plt.hist(item3_clusters_ids, bins=121, alpha=0.5, label='Person 4')\n",
        "plt.hist(item4_clusters_ids, bins=121, alpha=0.5, label='Person 5')\n",
        "plt.xlabel('Cluster ID')\n",
        "plt.ylabel('Frequency')\n",
        "plt.legend()\n",
        "plt.show()"
      ]
    },
    {
      "cell_type": "code",
      "execution_count": 16,
      "metadata": {
        "colab": {
          "base_uri": "https://localhost:8080/"
        },
        "id": "7lDaW4Q_U10w",
        "outputId": "52cc5870-cdcb-4214-aae2-1793c489474c"
      },
      "outputs": [
        {
          "output_type": "stream",
          "name": "stdout",
          "text": [
            "10\n"
          ]
        }
      ],
      "source": [
        "\n",
        "# @title ==================    vizualization    ===============================\n",
        "\n",
        "import numpy as np\n",
        "import matplotlib.pyplot as plt\n",
        "\n",
        "# Unique colors for each person (red tint for Person 4, blue tint for Person 5)\n",
        "# person 4's index is 3,  and person 5's index is 4\n",
        "color_maps = {3: 'Reds', 4: 'Blues'}  # Individual 4 → Red, Individual 5 → Blue\n",
        "\n",
        "# Store data separately for each person\n",
        "individuals = {3: item3_images, 4: item4_images}\n",
        "individual_cluster_ids = {3: item3_clusters_ids, 4: item4_clusters_ids}\n",
        "\n",
        "# Define the total number of possible clusters (e.g., 121 for an 11x11 SOM)\n",
        "n_possible_clusters = 121\n",
        "num_persons = len(individuals)\n",
        "\n",
        "# Step 1: Compute Prototypes & Cluster Data for Each Person for ALL possible clusters\n",
        "prototypes = {}         # keys: (person_id, cluster_id)\n",
        "cluster_counts = {}     # keys: (person_id, cluster_id)\n",
        "cluster_images_dict = {}  # keys: (person_id, cluster_id)\n",
        "\n",
        "for person_id in individuals:\n",
        "    images = individuals[person_id]\n",
        "    cluster_ids = individual_cluster_ids[person_id]\n",
        "    # Determine image shape from the first image (assumes at least one image exists)\n",
        "    image_shape = images[0].shape\n",
        "\n",
        "    for cluster_id in range(n_possible_clusters):\n",
        "        key = (person_id, cluster_id)\n",
        "        # Check if this cluster exists in the current person's data\n",
        "        if cluster_id in np.unique(cluster_ids):\n",
        "            cluster_imgs = images[cluster_ids == cluster_id]\n",
        "            # images: A NumPy array of shape (500, 64, 64) — contains 500 face images for a person.\n",
        "            # cluster_ids: A NumPy array of shape (500,) — contains the SOM cluster ID (0–120) for each of those 500 images.\n",
        "            # cluster_ids == cluster_id creates a boolean mask of shape (500,) [False, True, False, ..., True]\n",
        "            # What images[mask] does: Selects the subset of images where the corresponding cluster_id matches the current cluster.\n",
        "            prototype = np.mean(cluster_imgs, axis=0)\n",
        "            prototypes[key] = prototype\n",
        "            cluster_counts[key] = len(cluster_imgs)\n",
        "            cluster_images_dict[key] = cluster_imgs # saves the cluster of images\n",
        "        else:\n",
        "            # For empty clusters, assign an empty (all-zero) image\n",
        "            prototypes[key] = np.zeros(image_shape)\n",
        "            cluster_counts[key] = 0\n",
        "            cluster_images_dict[key] = np.empty((0, *image_shape))\n",
        "\n",
        "# Determine maximum number of images in any cluster across all individuals\n",
        "max_n = min(max(cluster_counts.values()), 10) if cluster_counts else 0\n",
        "print(max_n)"
      ]
    },
    {
      "cell_type": "code",
      "source": [
        "# Total columns: each cluster has one column per person\n",
        "total_columns = n_possible_clusters * num_persons\n",
        "total_rows = max_n + 1  # First row for prototypes\n",
        "\n",
        "# Create a grid for visualization (adjust figsize as needed)\n",
        "# To increase the size of the images in the visualization, modify the \"figsize\" parameter in the plt.subplots() function.\n",
        "# currently 0.5 -> 2\n",
        "fig, axes = plt.subplots(total_rows, total_columns, figsize=(total_columns * 1, total_rows * 1))\n",
        "\n",
        "# Step 2: Visualize: For each possible cluster, show each person's prototype and images side by side\n",
        "for cluster_id in range(n_possible_clusters):\n",
        "    for person_id in individuals:\n",
        "        col_idx = cluster_id * num_persons + person_id -3\n",
        "        key = (person_id, cluster_id)\n",
        "        cmap = color_maps[person_id]\n",
        "\n",
        "        # Plot prototype in the first row\n",
        "        axes[0, col_idx].imshow(prototypes[key], cmap=cmap)\n",
        "        count = cluster_counts[key]\n",
        "        axes[0, col_idx].set_title(f'P{person_id} C{cluster_id}\\n(n={count})', fontsize=6)\n",
        "        axes[0, col_idx].axis('off')\n",
        "\n",
        "        # Plot each image below the prototype (or an empty image if none available)\n",
        "        cluster_imgs = cluster_images_dict[key]\n",
        "        for row_idx in range(max_n):\n",
        "            ax = axes[row_idx + 1, col_idx]\n",
        "            if row_idx < count:\n",
        "                ax.imshow(cluster_imgs[row_idx], cmap=cmap)\n",
        "            else:\n",
        "                ax.imshow(np.zeros_like(prototypes[key]), cmap=cmap)\n",
        "            ax.axis('off')\n",
        "\n",
        "plt.tight_layout()\n",
        "plt.show()\n"
      ],
      "metadata": {
        "id": "E5TNU28p3MFP"
      },
      "execution_count": null,
      "outputs": []
    },
    {
      "cell_type": "code",
      "execution_count": 10,
      "metadata": {
        "id": "FtiaK-6MVTdT"
      },
      "outputs": [],
      "source": [
        "\n",
        "# @title ===============    probability (stochastic) vector & saving trained data    ===============\n",
        "\n",
        "# probability_vectors contains the probability vector for each individual.\n",
        "# Note: cluster_ids and person_clusters represent the same data: the cluster assignment for each image of a person.\n",
        "\n",
        "import pickle\n",
        "import numpy as np\n",
        "\n",
        "n_clusters = 11*11\n",
        "\n",
        "def compute_probability_vector(cluster_ids, n_clusters):\n",
        "    \"\"\"\n",
        "    Compute both the normalized probability vector and the raw counts vector for an individual based on\n",
        "    the number of images assigned to each cluster (from 0 to n_clusters-1).\n",
        "\n",
        "    Parameters:\n",
        "    - cluster_ids: a NumPy array of cluster IDs assigned to each image.\n",
        "    - n_clusters: total number of possible clusters (e.g., 121 for an 11x11 SOM).\n",
        "\n",
        "    Returns:\n",
        "    - probability_vector: normalized counts (stochastic vector) of length n_clusters.\n",
        "    - counts_vector: raw counts for each cluster, of length n_clusters.\n",
        "    \"\"\"\n",
        "    sample_size = len(cluster_ids)  # Dynamic sample size\n",
        "    counts_vector = np.zeros(n_clusters)  # Initialize raw counts with zeros for all clusters\n",
        "    unique, counts = np.unique(cluster_ids, return_counts=True)  # Get unique cluster IDs and counts (Count occurrences per cluster)\n",
        "    counts_vector[unique] = counts  # Assign counts to corresponding clusters (indices)\n",
        "    probability_vector = counts_vector / sample_size  # Normalize by the sample size\n",
        "    return probability_vector, counts_vector\n",
        "\n",
        "\n",
        "\n",
        "# adjusted like below:\n",
        "\"\"\"\n",
        "                    Now here comes the fun part. Remember the structure of som_train_img?\n",
        "                        We can now drop the images and store only the cluster_ids,\n",
        "                        since we have the real image IDs.\n",
        "\n",
        "                    now we'll do this for both som_train_img and som_prj_img parts\n",
        "\n",
        "                    then we calculate the probability vectors (total 49+52, save the different 2d array)\n",
        "\n",
        "                    save the som too.\n",
        "\n",
        "\n",
        "                    So the new data format to save in file:\n",
        "                    som_trained_data = {\n",
        "                        'train_clustr': array of (name, real_500_idx, cluster_ids_500),\n",
        "                        'prj_clustr': array of (name, real_500_idx, cluster_ids_500),\n",
        "                        'pob_vec_train': probability_vectors,\n",
        "                        'pob_vec_prj': probability_vectors,\n",
        "                        'som_model': som_universal\n",
        "                    }\n",
        "\n",
        "\"\"\"\n",
        "\n",
        "\n",
        "# Updated Code (post-SOM training, keep simple):\n",
        "# -------- Convert som_train_img and som_prj_img to only cluster info --------\n",
        "\n",
        "def convert_img_list_to_cluster_data(img_list, som_model):\n",
        "    result = []\n",
        "    for name, real_idx, images in img_list:\n",
        "        images = np.array(images)\n",
        "        cluster_ids = assign_clusters(images, som_model)\n",
        "        result.append((name, real_idx, cluster_ids))\n",
        "    return result\n"
      ]
    },
    {
      "cell_type": "code",
      "source": [
        "# Apply to both training and projection sets\n",
        "train_cluster_data = convert_img_list_to_cluster_data(som_train_img, som_universal)\n",
        "prj_cluster_data = convert_img_list_to_cluster_data(som_prj_img, som_universal)"
      ],
      "metadata": {
        "id": "GaRXnUBHhbQg"
      },
      "execution_count": 12,
      "outputs": []
    },
    {
      "cell_type": "code",
      "source": [
        "# -------- Compute probability vectors for each individual --------\n",
        "# use a list of tuples:     prob_vectors = [(name, prob_vec)]\n",
        "\n",
        "def compute_all_probability_vectors(cluster_data, total_clusters=121):\n",
        "    prob_vectors = []  # List of (name, prob_vector) tuples\n",
        "    for name, real_indices, cluster_ids in cluster_data:\n",
        "        prob_vec, _ = compute_probability_vector(cluster_ids, total_clusters)\n",
        "        prob_vectors.append((name, prob_vec))\n",
        "    return prob_vectors\n"
      ],
      "metadata": {
        "id": "KTQecx5qhVF-"
      },
      "execution_count": 11,
      "outputs": []
    },
    {
      "cell_type": "code",
      "source": [
        "# Compute separately for train and projection sets\n",
        "prob_vec_train = compute_all_probability_vectors(train_cluster_data, n_clusters)\n",
        "prob_vec_prj = compute_all_probability_vectors(prj_cluster_data, n_clusters)"
      ],
      "metadata": {
        "id": "XXDj_b3bhgeg"
      },
      "execution_count": 13,
      "outputs": []
    },
    {
      "cell_type": "code",
      "execution_count": 14,
      "metadata": {
        "id": "secAWifqVWJh",
        "colab": {
          "base_uri": "https://localhost:8080/"
        },
        "outputId": "0cff1c1f-b89c-47f9-84fa-84b9e0fa0f20"
      },
      "outputs": [
        {
          "output_type": "stream",
          "name": "stdout",
          "text": [
            " SOM, clusters, and probability vectors saved to 'som_trained_data_xx.pkl'\n"
          ]
        }
      ],
      "source": [
        "# -------- Save all in one dictionary --------\n",
        "\n",
        "som_trained_data = {\n",
        "    'train_clustr': train_cluster_data,          # list of (name, real_500_idx, cluster_ids)\n",
        "    'prj_clustr': prj_cluster_data,\n",
        "    'pob_vec_train': prob_vec_train,\n",
        "    'pob_vec_prj': prob_vec_prj,\n",
        "    'som_model': som_universal\n",
        "}\n",
        "\n",
        "save_compressed(som_trained_data, \"som_trained_data_03.pkl\")\n",
        "\n",
        "print(\" SOM, clusters, and probability vectors saved to 'som_trained_data_xx.pkl'\")\n"
      ]
    },
    {
      "cell_type": "code",
      "execution_count": 15,
      "metadata": {
        "id": "VJd408CNVfCD",
        "colab": {
          "base_uri": "https://localhost:8080/"
        },
        "outputId": "9b0efc96-9cce-424a-c298-327851daed58"
      },
      "outputs": [
        {
          "output_type": "stream",
          "name": "stdout",
          "text": [
            "SOM Model Loaded: <minisom.MiniSom object at 0x7a4aece01a50>\n",
            "SOM Grid Size: (11, 11)\n",
            "\n",
            "=== Sample of Cluster Assignments (Train) ===\n",
            "Name: dt_0_P08_0\n",
            "Real Image Indices (first 10): [4280, 4345, 5526, 1569, 2906, 7521, 900, 2461, 4328, 6893]\n",
            "Cluster IDs (first 10): [ 54  76  55  97  73  60  98 112  63  32]\n",
            "----------------------------------------\n",
            "Name: dt_0_P08_0\n",
            "Real Image Indices (first 10): [5391, 3857, 3362, 5783, 3974, 1115, 4295, 7395, 2077, 814]\n",
            "Cluster IDs (first 10): [54 64 98 65 60 63 49 31 64 54]\n",
            "----------------------------------------\n",
            "Name: dt_1_P08_0\n",
            "Real Image Indices (first 10): [4282, 3587, 2353, 1358, 1996, 2393, 1288, 464, 3892, 5045]\n",
            "Cluster IDs (first 10): [59 42 42 63 65 43 11 69 22 24]\n",
            "----------------------------------------\n",
            "\n",
            "=== Sample of Cluster Assignments (Project) ===\n",
            "Name: dt_0_P08_0\n",
            "Real Image Indices (first 10): [6386, 7428, 4526, 9277, 6963, 1675, 2357, 3655, 6504, 6876]\n",
            "Cluster IDs (first 10): [ 52 108  64  98  21  85  63  54  65  75]\n",
            "----------------------------------------\n",
            "Name: dt_0_P08_0\n",
            "Real Image Indices (first 10): [651, 6843, 3856, 4446, 8190, 8424, 9520, 8124, 4496, 3705]\n",
            "Cluster IDs (first 10): [43 87 97 54 32 64 97 43 65 32]\n",
            "----------------------------------------\n",
            "Name: dt_0_P08_0\n",
            "Real Image Indices (first 10): [6152, 5991, 4424, 8360, 9714, 2695, 5579, 9059, 3513, 2149]\n",
            "Cluster IDs (first 10): [ 61  42  84 115  64  60  56  42  64  56]\n",
            "----------------------------------------\n",
            "\n",
            "=== Probability Vectors (Train) ===\n",
            "Person: dt_0_P08_0\tLabel: [0.004 0.    0.    0.002 0.    0.    0.    0.    0.002 0.002]\tSum: 1.0000, Min: 0.0000, Max: 0.1040\n",
            "Person: dt_0_P08_0\tLabel: [0.004 0.    0.    0.    0.    0.    0.    0.004 0.    0.   ]\tSum: 1.0000, Min: 0.0000, Max: 0.1240\n",
            "Person: dt_1_P08_0\tLabel: [0.    0.    0.    0.    0.    0.002 0.002 0.    0.002 0.002]\tSum: 1.0000, Min: 0.0000, Max: 0.1060\n",
            "Person: dt_4_P12_1\tLabel: [0.002 0.014 0.022 0.006 0.004 0.024 0.014 0.004 0.004 0.002]\tSum: 1.0000, Min: 0.0000, Max: 0.0280\n",
            "Person: dt_5_P12_1\tLabel: [0.004 0.008 0.006 0.012 0.    0.044 0.024 0.004 0.002 0.022]\tSum: 1.0000, Min: 0.0000, Max: 0.0620\n",
            "Person: dt_8_P14_0\tLabel: [0.006 0.004 0.    0.    0.    0.002 0.002 0.008 0.006 0.012]\tSum: 1.0000, Min: 0.0000, Max: 0.0800\n",
            "Person: dt_8_P14_0\tLabel: [0.004 0.002 0.    0.004 0.    0.006 0.006 0.01  0.004 0.01 ]\tSum: 1.0000, Min: 0.0000, Max: 0.0880\n",
            "Person: dt_9_P15_0\tLabel: [0.012 0.018 0.082 0.034 0.022 0.002 0.004 0.008 0.    0.   ]\tSum: 1.0000, Min: 0.0000, Max: 0.0820\n",
            "Person: dt_10_P15_1\tLabel: [0.004 0.056 0.098 0.022 0.024 0.008 0.008 0.006 0.002 0.   ]\tSum: 1.0000, Min: 0.0000, Max: 0.0980\n",
            "Person: dt_11_P16_0\tLabel: [0.002 0.006 0.002 0.008 0.002 0.026 0.008 0.008 0.004 0.002]\tSum: 1.0000, Min: 0.0000, Max: 0.0680\n",
            "----------------------------------------\n",
            "\n",
            "=== Probability Vectors (Projected) ===\n",
            "Person: dt_0_P08_0\tLabel: [0.004 0.002 0.    0.    0.    0.    0.    0.    0.    0.002]\tSum: 1.0000, Min: 0.0000, Max: 0.0920\n",
            "Person: dt_0_P08_0\tLabel: [0.    0.    0.    0.    0.002 0.    0.    0.    0.    0.   ]\tSum: 1.0000, Min: 0.0000, Max: 0.1080\n",
            "Person: dt_0_P08_0\tLabel: [0.    0.    0.    0.004 0.    0.    0.    0.    0.    0.002]\tSum: 1.0000, Min: 0.0000, Max: 0.0880\n",
            "Person: dt_1_P08_0\tLabel: [0.    0.    0.    0.    0.    0.    0.    0.    0.002 0.004]\tSum: 1.0000, Min: 0.0000, Max: 0.0860\n",
            "Person: dt_1_P08_0\tLabel: [0.    0.    0.    0.    0.    0.    0.    0.002 0.    0.   ]\tSum: 1.0000, Min: 0.0000, Max: 0.1080\n",
            "Person: dt_8_P14_0\tLabel: [0.004 0.006 0.    0.002 0.    0.006 0.002 0.006 0.006 0.012]\tSum: 1.0000, Min: 0.0000, Max: 0.0820\n",
            "Person: dt_8_P14_0\tLabel: [0.002 0.002 0.    0.002 0.    0.004 0.006 0.01  0.012 0.008]\tSum: 1.0000, Min: 0.0000, Max: 0.0820\n",
            "Person: dt_8_P14_0\tLabel: [0.004 0.006 0.002 0.    0.    0.008 0.004 0.006 0.006 0.006]\tSum: 1.0000, Min: 0.0000, Max: 0.0640\n",
            "Person: dt_9_P15_0\tLabel: [0.012 0.008 0.076 0.038 0.018 0.004 0.002 0.01  0.004 0.   ]\tSum: 1.0000, Min: 0.0000, Max: 0.0760\n",
            "Person: dt_11_P16_0\tLabel: [0.006 0.002 0.    0.01  0.004 0.018 0.006 0.006 0.    0.006]\tSum: 1.0000, Min: 0.0000, Max: 0.0860\n",
            "----------------------------------------\n"
          ]
        }
      ],
      "source": [
        "\n",
        "# ===============    Load the SOM model and probability vector    ===============\n",
        "import pickle\n",
        "\n",
        "# Load the trained SOM model and probability vectors\n",
        "\n",
        "som_trained_data = load_compressed(\"som_trained_data_03.pkl\")\n",
        "\n",
        "# Extract SOM model\n",
        "som_model = som_trained_data['som_model']\n",
        "\n",
        "# Preview loaded SOM model\n",
        "print(f\"SOM Model Loaded: {som_model}\")\n",
        "print(f\"SOM Grid Size: {som_model._weights.shape[:2]}\")  # Typically (11, 11)\n",
        "\n",
        "# Preview a few cluster assignments (Train)\n",
        "print(\"\\n=== Sample of Cluster Assignments (Train) ===\")\n",
        "for name, real_ids, cluster_ids in som_trained_data['train_clustr'][:3]:\n",
        "    print(f\"Name: {name}\")\n",
        "    print(f\"Real Image Indices (first 10): {real_ids[:10]}\")\n",
        "    print(f\"Cluster IDs (first 10): {cluster_ids[:10]}\")\n",
        "    print(\"-\" * 40)\n",
        "\n",
        "# Preview a few cluster assignments (Project)\n",
        "print(\"\\n=== Sample of Cluster Assignments (Project) ===\")\n",
        "for name, real_ids, cluster_ids in som_trained_data['prj_clustr'][:3]:\n",
        "    print(f\"Name: {name}\")\n",
        "    print(f\"Real Image Indices (first 10): {real_ids[:10]}\")\n",
        "    print(f\"Cluster IDs (first 10): {cluster_ids[:10]}\")\n",
        "    print(\"-\" * 40)\n",
        "\n",
        "# Preview probability vectors - TRAIN\n",
        "print(\"\\n=== Probability Vectors (Train) ===\")\n",
        "for name, vec_data in som_trained_data['pob_vec_train'][:10]:\n",
        "    print(f\"Person: {name}\\tLabel: {vec_data[:10]}\\tSum: {vec_data.sum():.4f}, Min: {vec_data.min():.4f}, Max: {vec_data.max():.4f}\")\n",
        "\n",
        "print(\"-\" * 40)\n",
        "\n",
        "# Preview probability vectors - PROJECTED\n",
        "print(\"\\n=== Probability Vectors (Projected) ===\")\n",
        "for name, vec_data in som_trained_data['pob_vec_prj'][:10]:\n",
        "    print(f\"Person: {name}\\tLabel: {vec_data[:10]}\\tSum: {vec_data.sum():.4f}, Min: {vec_data.min():.4f}, Max: {vec_data.max():.4f}\")\n",
        "\n",
        "print(\"-\" * 40)\n"
      ]
    }
  ],
  "metadata": {
    "colab": {
      "provenance": []
    },
    "kernelspec": {
      "display_name": "Python 3",
      "name": "python3"
    },
    "language_info": {
      "name": "python"
    }
  },
  "nbformat": 4,
  "nbformat_minor": 0
}